{
 "cells": [
  {
   "cell_type": "markdown",
   "metadata": {},
   "source": [
    "### import the downloaded data"
   ]
  },
  {
   "cell_type": "code",
   "execution_count": null,
   "metadata": {},
   "outputs": [],
   "source": [
    "import random\n",
    "import pandas as pd\n",
    "from sklearn.metrics.pairwise import euclidean_distances\n",
    "from sklearn.feature_extraction.text import CountVectorizer\n",
    "from sklearn.neighbors import NearestNeighbors\n"
   ]
  },
  {
   "cell_type": "code",
   "execution_count": null,
   "metadata": {},
   "outputs": [],
   "source": [
    "df = pd.read_csv(\"popular_beer_ratings.csv\")\n",
    "df = df[df['review'] >= 4.50]\n",
    "df = df.groupby([\"user\"])[\"item\"].apply(lambda x: \",\".join(x))\n",
    "df = pd.DataFrame(df)\n",
    "df.head()"
   ]
  },
  {
   "cell_type": "markdown",
   "metadata": {},
   "source": [
    "### create the model"
   ]
  },
  {
   "cell_type": "code",
   "execution_count": null,
   "metadata": {},
   "outputs": [],
   "source": [
    "class NNRecommender:\n",
    "    def __init__(self, n_neighbors=5, separator=\",\"):\n",
    "        self.separator = separator\n",
    "        self.cv = CountVectorizer(tokenizer=lambda x: x.split(separator))\n",
    "        self.nn = NearestNeighbors(n_neighbors=n_neighbors)\n",
    "        \n",
    "    def __repr__(self):\n",
    "        return f'NNRecommender(n_neighbors={self.nn.n_neighbors}, separator=\"{self.separator}\")'\n",
    "        \n",
    "    def fit(self, X):\n",
    "        self.X = X\n",
    "        X = self.cv.fit_transform(X)\n",
    "        self.nn.fit(X)\n",
    "        return self\n",
    "\n",
    "    def predict(self, X):\n",
    "        Xp = []\n",
    "        for Xi in X:\n",
    "            Xt = self.cv.transform([Xi])\n",
    "            neighbors = self.nn.kneighbors(Xt, return_distance=False)\n",
    "            repos = []\n",
    "            for n in neighbors[0]:\n",
    "                r = self.X.iloc[int(n)].split(self.separator)\n",
    "                repos.extend(r)\n",
    "            repos = list(set(repos))\n",
    "            repos = [r for r in repos if r not in Xi.split(self.separator)]\n",
    "            Xp.append(repos)\n",
    "        return Xp"
   ]
  },
  {
   "cell_type": "code",
   "execution_count": null,
   "metadata": {},
   "outputs": [],
   "source": [
    "model = NNRecommender(n_neighbors=5)\n",
    "model.fit(df[\"item\"])"
   ]
  },
  {
   "cell_type": "code",
   "execution_count": null,
   "metadata": {},
   "outputs": [],
   "source": [
    "df.sample(2)['item'].values"
   ]
  },
  {
   "cell_type": "code",
   "execution_count": null,
   "metadata": {},
   "outputs": [],
   "source": [
    "ipa = [\"OAKED Arrogant Bastard Ale,Ruthless Rye IPA,World Wide Stout,Resin,Julius,Maudite,Franziskaner Hefe-Weisse,Westmalle Trappist Tripel,2XIPA,Abbey Ale,Abrasive Ale,Schneider Weisse Tap 6 Unser Aventinus,Oak Aged Yeti Imperial Stout,Kalamazoo Stout,Undercover Investigation Shut-down Ale,Vanilla Porter,Head Hunter,Dark Lord Imperial Stout,Samuel Adams Rebel IPA,Hop Nosh IPA\"]"
   ]
  },
  {
   "cell_type": "code",
   "execution_count": null,
   "metadata": {},
   "outputs": [],
   "source": [
    "stout = [\"Pilsner Urquell,Rodenbach Grand Cru,Smoked Porter,Raging Bitch,Darkness,The Mad Elf,Obsidian Stout,Black Tuesday,Nut Brown Ale,Plead The 5th Imperial Stout,Double Cream Stout,La Folie,Big Bad Baptist\"]"
   ]
  },
  {
   "cell_type": "code",
   "execution_count": null,
   "metadata": {},
   "outputs": [],
   "source": [
    "model.predict(ipa)"
   ]
  },
  {
   "cell_type": "code",
   "execution_count": null,
   "metadata": {},
   "outputs": [],
   "source": [
    "model.predict(stout)"
   ]
  },
  {
   "cell_type": "code",
   "execution_count": null,
   "metadata": {},
   "outputs": [],
   "source": [
    "import cloudpickle"
   ]
  },
  {
   "cell_type": "code",
   "execution_count": null,
   "metadata": {},
   "outputs": [],
   "source": [
    "with open(\"model.pkl\", \"wb\") as f:\n",
    "    cloudpickle.dump(model, f)"
   ]
  },
  {
   "cell_type": "code",
   "execution_count": null,
   "metadata": {},
   "outputs": [],
   "source": [
    "del model"
   ]
  },
  {
   "cell_type": "code",
   "execution_count": null,
   "metadata": {},
   "outputs": [],
   "source": [
    "with open(\"model.pkl\", \"rb\") as f:\n",
    "    model = cloudpickle.load(f)"
   ]
  },
  {
   "cell_type": "code",
   "execution_count": null,
   "metadata": {},
   "outputs": [],
   "source": [
    "model.predict(ipa)"
   ]
  },
  {
   "cell_type": "code",
   "execution_count": null,
   "metadata": {},
   "outputs": [],
   "source": [
    "features = model.cv.get_feature_names()\n",
    "random_features = \", \".join(random.choices(features, k=10))\n",
    "random_features"
   ]
  },
  {
   "cell_type": "code",
   "execution_count": null,
   "metadata": {},
   "outputs": [],
   "source": []
  }
 ],
 "metadata": {
  "kernel_info": {
   "name": "python3"
  },
  "kernelspec": {
   "display_name": "Python 3",
   "language": "python",
   "name": "python3"
  },
  "language_info": {
   "codemirror_mode": {
    "name": "ipython",
    "version": 3
   },
   "file_extension": ".py",
   "mimetype": "text/x-python",
   "name": "python",
   "nbconvert_exporter": "python",
   "pygments_lexer": "ipython3",
   "version": "3.8.2"
  },
  "nteract": {
   "version": "0.15.0"
  }
 },
 "nbformat": 4,
 "nbformat_minor": 2
}
